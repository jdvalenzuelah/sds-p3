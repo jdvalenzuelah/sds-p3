{
 "cells": [
  {
   "cell_type": "markdown",
   "metadata": {},
   "source": [
    "# Proyecto 3"
   ]
  },
  {
   "cell_type": "markdown",
   "metadata": {},
   "source": [
    "## Modelo original"
   ]
  },
  {
   "cell_type": "code",
   "execution_count": 97,
   "metadata": {},
   "outputs": [],
   "source": [
    "import tensorflow as tf\n",
    "tf.compat.v1.disable_eager_execution()\n",
    "\n",
    "from keras.preprocessing.image import ImageDataGenerator\n",
    "import pandas as pd\n",
    "import matplotlib.pyplot as plt\n",
    "import matplotlib.image as mpimg\n",
    "import numpy as np\n",
    "from random import sample\n",
    "from sklearn.model_selection import train_test_split\n",
    "import keras\n",
    "from tensorflow.keras import Input\n",
    "from keras.models import Sequential, Model\n",
    "from keras.layers import Dense, Dropout, Flatten, Conv2D, MaxPooling2D\n",
    "from tensorflow.keras.layers import BatchNormalization\n",
    "from sklearn.metrics import confusion_matrix, ConfusionMatrixDisplay, recall_score, f1_score, accuracy_score\n",
    "import seaborn as sns"
   ]
  },
  {
   "cell_type": "code",
   "execution_count": 26,
   "metadata": {},
   "outputs": [],
   "source": [
    "let = lambda receiver, block: block(receiver)"
   ]
  },
  {
   "cell_type": "code",
   "execution_count": 27,
   "metadata": {},
   "outputs": [
    {
     "name": "stdout",
     "output_type": "stream",
     "text": [
      "Found 9339 images belonging to 25 classes.\n"
     ]
    }
   ],
   "source": [
    "datagen = ImageDataGenerator()\n",
    "generator = datagen.flow_from_directory('../malimg_paper_dataset_imgs', batch_size=20000, target_size=(64,64))"
   ]
  },
  {
   "cell_type": "code",
   "execution_count": 28,
   "metadata": {},
   "outputs": [],
   "source": [
    "# Make sure al all images included in a single batch\n",
    "assert len(generator) == 1"
   ]
  },
  {
   "cell_type": "code",
   "execution_count": 29,
   "metadata": {},
   "outputs": [],
   "source": [
    "images, labels = generator.next()"
   ]
  },
  {
   "cell_type": "code",
   "execution_count": 30,
   "metadata": {},
   "outputs": [],
   "source": [
    "class_labels = list(generator.class_indices.keys())"
   ]
  },
  {
   "cell_type": "code",
   "execution_count": 56,
   "metadata": {},
   "outputs": [],
   "source": [
    "def get_model():\n",
    "    model = Sequential([\n",
    "        Conv2D(16, 3, padding='same', activation='relu',  input_shape=(64, 64, 3)),\n",
    "        MaxPooling2D(pool_size=(2, 2)),\n",
    "        Conv2D(32, 3, padding='same', activation='relu'),\n",
    "        MaxPooling2D(pool_size=(2, 2)),\n",
    "        Conv2D(64, 3, padding='same', activation='relu'),\n",
    "        Dropout(0.25),\n",
    "        Flatten(),\n",
    "        Dense(128, activation='relu'),\n",
    "        Dense(50, activation='relu'),\n",
    "        Dense(25, activation='softmax')\n",
    "    ])\n",
    "    model.compile(loss='categorical_crossentropy', optimizer = 'adam', metrics=['accuracy'])\n",
    "    model.build()\n",
    "    return model"
   ]
  },
  {
   "cell_type": "code",
   "execution_count": 44,
   "metadata": {},
   "outputs": [],
   "source": [
    "model = get_model()"
   ]
  },
  {
   "cell_type": "code",
   "execution_count": 33,
   "metadata": {},
   "outputs": [
    {
     "name": "stdout",
     "output_type": "stream",
     "text": [
      "Model: \"sequential_1\"\n",
      "_________________________________________________________________\n",
      " Layer (type)                Output Shape              Param #   \n",
      "=================================================================\n",
      " conv2d_3 (Conv2D)           (None, 64, 64, 16)        448       \n",
      "                                                                 \n",
      " max_pooling2d_2 (MaxPooling  (None, 32, 32, 16)       0         \n",
      " 2D)                                                             \n",
      "                                                                 \n",
      " conv2d_4 (Conv2D)           (None, 32, 32, 32)        4640      \n",
      "                                                                 \n",
      " max_pooling2d_3 (MaxPooling  (None, 16, 16, 32)       0         \n",
      " 2D)                                                             \n",
      "                                                                 \n",
      " conv2d_5 (Conv2D)           (None, 16, 16, 64)        18496     \n",
      "                                                                 \n",
      " dropout_1 (Dropout)         (None, 16, 16, 64)        0         \n",
      "                                                                 \n",
      " flatten_1 (Flatten)         (None, 16384)             0         \n",
      "                                                                 \n",
      " dense_3 (Dense)             (None, 128)               2097280   \n",
      "                                                                 \n",
      " dense_4 (Dense)             (None, 50)                6450      \n",
      "                                                                 \n",
      " dense_5 (Dense)             (None, 25)                1275      \n",
      "                                                                 \n",
      "=================================================================\n",
      "Total params: 2,128,589\n",
      "Trainable params: 2,128,589\n",
      "Non-trainable params: 0\n",
      "_________________________________________________________________\n"
     ]
    }
   ],
   "source": [
    "model.summary()"
   ]
  },
  {
   "cell_type": "code",
   "execution_count": 45,
   "metadata": {},
   "outputs": [],
   "source": [
    "images = images/255. # Nos aseguramos que el rgb este en escala de 0 a 1\n",
    "X_train, X_test, y_train, y_test = train_test_split(images, labels, test_size=0.3)"
   ]
  },
  {
   "cell_type": "code",
   "execution_count": 46,
   "metadata": {},
   "outputs": [
    {
     "name": "stdout",
     "output_type": "stream",
     "text": [
      "Train on 6537 samples, validate on 2802 samples\n",
      "Epoch 1/10\n",
      "6537/6537 [==============================] - ETA: 0s - loss: 2.5600 - accuracy: 0.3202"
     ]
    },
    {
     "name": "stderr",
     "output_type": "stream",
     "text": [
      "/usr/local/lib/python3.8/dist-packages/keras/engine/training_v1.py:2045: UserWarning: `Model.state_updates` will be removed in a future version. This property should not be used in TensorFlow 2.0, as `updates` are applied automatically.\n",
      "  updates = self.state_updates\n"
     ]
    },
    {
     "name": "stdout",
     "output_type": "stream",
     "text": [
      "6537/6537 [==============================] - 10s 1ms/sample - loss: 2.5600 - accuracy: 0.3202 - val_loss: 2.5123 - val_accuracy: 0.3019\n",
      "Epoch 2/10\n",
      "6537/6537 [==============================] - 10s 2ms/sample - loss: 2.2911 - accuracy: 0.3586 - val_loss: 1.3774 - val_accuracy: 0.5264\n",
      "Epoch 3/10\n",
      "6537/6537 [==============================] - 10s 1ms/sample - loss: 1.0359 - accuracy: 0.6564 - val_loss: 0.7226 - val_accuracy: 0.6938\n",
      "Epoch 4/10\n",
      "6537/6537 [==============================] - 10s 2ms/sample - loss: 0.6779 - accuracy: 0.7516 - val_loss: 0.5715 - val_accuracy: 0.7566\n",
      "Epoch 5/10\n",
      "6537/6537 [==============================] - 11s 2ms/sample - loss: 0.6086 - accuracy: 0.7705 - val_loss: 0.5005 - val_accuracy: 0.8237\n",
      "Epoch 6/10\n",
      "6537/6537 [==============================] - 9s 1ms/sample - loss: 0.5386 - accuracy: 0.8008 - val_loss: 0.5491 - val_accuracy: 0.7723\n",
      "Epoch 7/10\n",
      "6537/6537 [==============================] - 9s 1ms/sample - loss: 0.4367 - accuracy: 0.8421 - val_loss: 0.4556 - val_accuracy: 0.8173\n",
      "Epoch 8/10\n",
      "6537/6537 [==============================] - 9s 1ms/sample - loss: 0.3682 - accuracy: 0.8669 - val_loss: 0.5478 - val_accuracy: 0.7802\n",
      "Epoch 9/10\n",
      "6537/6537 [==============================] - 9s 1ms/sample - loss: 0.3242 - accuracy: 0.8888 - val_loss: 0.3068 - val_accuracy: 0.8972\n",
      "Epoch 10/10\n",
      "6537/6537 [==============================] - 10s 2ms/sample - loss: 0.2711 - accuracy: 0.9029 - val_loss: 0.2491 - val_accuracy: 0.9168\n"
     ]
    }
   ],
   "source": [
    "h = model.fit(X_train, y_train, validation_data=(X_test, y_test), epochs=10)"
   ]
  },
  {
   "cell_type": "code",
   "execution_count": 47,
   "metadata": {},
   "outputs": [
    {
     "data": {
      "text/plain": [
       "[0.24914706362774336, 0.9168451]"
      ]
     },
     "execution_count": 47,
     "metadata": {},
     "output_type": "execute_result"
    }
   ],
   "source": [
    "model.evaluate(X_test, y_test)"
   ]
  },
  {
   "cell_type": "markdown",
   "metadata": {},
   "source": [
    "## Ataque de extracción"
   ]
  },
  {
   "cell_type": "code",
   "execution_count": 48,
   "metadata": {},
   "outputs": [],
   "source": [
    "from art.attacks import ExtractionAttack\n",
    "from art.attacks.extraction import CopycatCNN, KnockoffNets\n",
    "from art.estimators.classification import KerasClassifier"
   ]
  },
  {
   "cell_type": "code",
   "execution_count": 52,
   "metadata": {},
   "outputs": [],
   "source": [
    "omc = KerasClassifier(model)\n",
    "cccnn = CopycatCNN(\n",
    "    classifier=omc,\n",
    "    batch_size_fit=64,\n",
    "    batch_size_query=64,\n",
    "    nb_epochs=10,\n",
    "    nb_stolen=1500,\n",
    "    use_probability=False\n",
    ")"
   ]
  },
  {
   "cell_type": "code",
   "execution_count": 53,
   "metadata": {},
   "outputs": [],
   "source": [
    "kon = KnockoffNets(\n",
    "    classifier=omc,\n",
    "    batch_size_fit=64,\n",
    "    batch_size_query=64,\n",
    "    nb_epochs=10,\n",
    "    nb_stolen=1500,\n",
    "    use_probability=False\n",
    ")"
   ]
  },
  {
   "cell_type": "code",
   "execution_count": 63,
   "metadata": {},
   "outputs": [],
   "source": [
    "def atack(n, m, l):\n",
    "    i = np.random.permutation(len(X_test))\n",
    "    ac = KerasClassifier(get_model())\n",
    "    s = m.extract(X_test[i[:l]], y_test[i[:l]], thieved_classifier=ac)\n",
    "    acc = s._model.evaluate(X_test[i[l:]], y_test[i[l:]])\n",
    "    return { 'name': n, 'acc': acc[1], 'size': l }"
   ]
  },
  {
   "cell_type": "code",
   "execution_count": 72,
   "metadata": {},
   "outputs": [
    {
     "name": "stdout",
     "output_type": "stream",
     "text": [
      "Train on 200 samples\n",
      "Epoch 1/10\n",
      "200/200 [==============================] - 1s 3ms/sample - loss: 3.1966 - accuracy: 0.2700\n",
      "Epoch 2/10\n",
      "200/200 [==============================] - 0s 1ms/sample - loss: 2.8107 - accuracy: 0.3850\n",
      "Epoch 3/10\n",
      "200/200 [==============================] - 0s 1ms/sample - loss: 2.4875 - accuracy: 0.3850\n",
      "Epoch 4/10\n",
      "200/200 [==============================] - 0s 1ms/sample - loss: 2.4380 - accuracy: 0.3850\n",
      "Epoch 5/10\n",
      "200/200 [==============================] - 0s 1ms/sample - loss: 2.4283 - accuracy: 0.2150\n",
      "Epoch 6/10\n",
      "200/200 [==============================] - 0s 1ms/sample - loss: 2.3593 - accuracy: 0.2750\n",
      "Epoch 7/10\n",
      "200/200 [==============================] - 0s 1ms/sample - loss: 2.3094 - accuracy: 0.3850\n",
      "Epoch 8/10\n",
      "200/200 [==============================] - 0s 1ms/sample - loss: 2.2960 - accuracy: 0.3850\n",
      "Epoch 9/10\n",
      "200/200 [==============================] - 0s 1ms/sample - loss: 2.2692 - accuracy: 0.3850\n",
      "Epoch 10/10\n",
      "200/200 [==============================] - 0s 1ms/sample - loss: 2.2550 - accuracy: 0.3850\n"
     ]
    },
    {
     "name": "stderr",
     "output_type": "stream",
     "text": [
      "/usr/local/lib/python3.8/dist-packages/keras/engine/training_v1.py:2045: UserWarning: `Model.state_updates` will be removed in a future version. This property should not be used in TensorFlow 2.0, as `updates` are applied automatically.\n",
      "  updates = self.state_updates\n"
     ]
    },
    {
     "name": "stdout",
     "output_type": "stream",
     "text": [
      "Train on 500 samples\n",
      "Epoch 1/10\n",
      "500/500 [==============================] - 1s 2ms/sample - loss: 3.1191 - accuracy: 0.2920\n",
      "Epoch 2/10\n",
      "500/500 [==============================] - 1s 1ms/sample - loss: 2.7435 - accuracy: 0.3240\n",
      "Epoch 3/10\n",
      "500/500 [==============================] - 1s 1ms/sample - loss: 2.6361 - accuracy: 0.3240\n",
      "Epoch 4/10\n",
      "500/500 [==============================] - 1s 1ms/sample - loss: 2.5510 - accuracy: 0.3240\n",
      "Epoch 5/10\n",
      "500/500 [==============================] - 1s 1ms/sample - loss: 2.5255 - accuracy: 0.3240\n",
      "Epoch 6/10\n",
      "500/500 [==============================] - 1s 1ms/sample - loss: 2.4926 - accuracy: 0.3240\n",
      "Epoch 7/10\n",
      "500/500 [==============================] - 1s 1ms/sample - loss: 2.4706 - accuracy: 0.3240\n",
      "Epoch 8/10\n",
      "500/500 [==============================] - 1s 1ms/sample - loss: 2.4661 - accuracy: 0.3240\n",
      "Epoch 9/10\n",
      "500/500 [==============================] - 1s 1ms/sample - loss: 2.4503 - accuracy: 0.3240\n",
      "Epoch 10/10\n",
      "500/500 [==============================] - 1s 1ms/sample - loss: 2.4516 - accuracy: 0.3240\n",
      "Train on 1000 samples\n",
      "Epoch 1/10\n",
      "1000/1000 [==============================] - 1s 1ms/sample - loss: 2.7650 - accuracy: 0.2810\n",
      "Epoch 2/10\n",
      "1000/1000 [==============================] - 1s 1ms/sample - loss: 2.4280 - accuracy: 0.3370\n",
      "Epoch 3/10\n",
      "1000/1000 [==============================] - 1s 1ms/sample - loss: 2.4028 - accuracy: 0.3370\n",
      "Epoch 4/10\n",
      "1000/1000 [==============================] - 1s 1ms/sample - loss: 2.3897 - accuracy: 0.3370\n",
      "Epoch 5/10\n",
      "1000/1000 [==============================] - 1s 1ms/sample - loss: 2.3910 - accuracy: 0.3370\n",
      "Epoch 6/10\n",
      "1000/1000 [==============================] - 1s 1ms/sample - loss: 2.3781 - accuracy: 0.3370\n",
      "Epoch 7/10\n",
      "1000/1000 [==============================] - 1s 1ms/sample - loss: 2.3754 - accuracy: 0.3370\n",
      "Epoch 8/10\n",
      "1000/1000 [==============================] - 1s 1ms/sample - loss: 2.3675 - accuracy: 0.3370\n",
      "Epoch 9/10\n",
      "1000/1000 [==============================] - 1s 1ms/sample - loss: 2.3458 - accuracy: 0.3370\n",
      "Epoch 10/10\n",
      "1000/1000 [==============================] - 1s 1ms/sample - loss: 2.3451 - accuracy: 0.3370\n",
      "Train on 1500 samples\n",
      "Epoch 1/10\n",
      "1500/1500 [==============================] - 2s 1ms/sample - loss: 2.6809 - accuracy: 0.3120\n",
      "Epoch 2/10\n",
      "1500/1500 [==============================] - 2s 1ms/sample - loss: 2.4463 - accuracy: 0.3273\n",
      "Epoch 3/10\n",
      "1500/1500 [==============================] - 2s 1ms/sample - loss: 2.4193 - accuracy: 0.3273\n",
      "Epoch 4/10\n",
      "1500/1500 [==============================] - 2s 1ms/sample - loss: 2.3936 - accuracy: 0.3273\n",
      "Epoch 5/10\n",
      "1500/1500 [==============================] - 2s 1ms/sample - loss: 2.3749 - accuracy: 0.3273\n",
      "Epoch 6/10\n",
      "1500/1500 [==============================] - 2s 1ms/sample - loss: 2.2971 - accuracy: 0.3273\n",
      "Epoch 7/10\n",
      "1500/1500 [==============================] - 2s 1ms/sample - loss: 2.1305 - accuracy: 0.3380\n",
      "Epoch 8/10\n",
      "1500/1500 [==============================] - 2s 1ms/sample - loss: 1.9179 - accuracy: 0.3907\n",
      "Epoch 9/10\n",
      "1500/1500 [==============================] - 2s 1ms/sample - loss: 1.6282 - accuracy: 0.4360\n",
      "Epoch 10/10\n",
      "1500/1500 [==============================] - 2s 1ms/sample - loss: 1.3355 - accuracy: 0.5340\n"
     ]
    }
   ],
   "source": [
    "sizes = [200, 500, 1000, 1500]\n",
    "cccnn_res = [atack('CopycatCNN', cccnn, l) for l in sizes]\n",
    "kon_res = [atack('KnockoffNets', kon, l) for l in sizes]"
   ]
  },
  {
   "cell_type": "code",
   "execution_count": 73,
   "metadata": {},
   "outputs": [
    {
     "data": {
      "text/html": [
       "<div>\n",
       "<style scoped>\n",
       "    .dataframe tbody tr th:only-of-type {\n",
       "        vertical-align: middle;\n",
       "    }\n",
       "\n",
       "    .dataframe tbody tr th {\n",
       "        vertical-align: top;\n",
       "    }\n",
       "\n",
       "    .dataframe thead th {\n",
       "        text-align: right;\n",
       "    }\n",
       "</style>\n",
       "<table border=\"1\" class=\"dataframe\">\n",
       "  <thead>\n",
       "    <tr style=\"text-align: right;\">\n",
       "      <th></th>\n",
       "      <th>name</th>\n",
       "      <th>acc</th>\n",
       "      <th>size</th>\n",
       "    </tr>\n",
       "  </thead>\n",
       "  <tbody>\n",
       "    <tr>\n",
       "      <th>0</th>\n",
       "      <td>CopycatCNN</td>\n",
       "      <td>0.297463</td>\n",
       "      <td>200</td>\n",
       "    </tr>\n",
       "    <tr>\n",
       "      <th>1</th>\n",
       "      <td>CopycatCNN</td>\n",
       "      <td>0.302346</td>\n",
       "      <td>500</td>\n",
       "    </tr>\n",
       "    <tr>\n",
       "      <th>2</th>\n",
       "      <td>CopycatCNN</td>\n",
       "      <td>0.297447</td>\n",
       "      <td>1000</td>\n",
       "    </tr>\n",
       "    <tr>\n",
       "      <th>3</th>\n",
       "      <td>CopycatCNN</td>\n",
       "      <td>0.588326</td>\n",
       "      <td>1500</td>\n",
       "    </tr>\n",
       "    <tr>\n",
       "      <th>4</th>\n",
       "      <td>KnockoffNets</td>\n",
       "      <td>0.304381</td>\n",
       "      <td>200</td>\n",
       "    </tr>\n",
       "  </tbody>\n",
       "</table>\n",
       "</div>"
      ],
      "text/plain": [
       "           name       acc  size\n",
       "0    CopycatCNN  0.297463   200\n",
       "1    CopycatCNN  0.302346   500\n",
       "2    CopycatCNN  0.297447  1000\n",
       "3    CopycatCNN  0.588326  1500\n",
       "4  KnockoffNets  0.304381   200"
      ]
     },
     "execution_count": 73,
     "metadata": {},
     "output_type": "execute_result"
    }
   ],
   "source": [
    "df = pd.DataFrame(cccnn_res + kon_res)\n",
    "df.head()"
   ]
  },
  {
   "cell_type": "code",
   "execution_count": 75,
   "metadata": {},
   "outputs": [
    {
     "data": {
      "image/png": "[encoded data removed]",
      "text/plain": [
       "<Figure size 640x480 with 1 Axes>"
      ]
     },
     "metadata": {},
     "output_type": "display_data"
    }
   ],
   "source": [
    "plt.clf()\n",
    "sns.lineplot(data=df, x=\"size\", y=\"acc\", hue='name')\n",
    "plt.show()"
   ]
  },
  {
   "cell_type": "markdown",
   "metadata": {},
   "source": [
    "Capa de proteccion"
   ]
  },
  {
   "cell_type": "code",
   "execution_count": 77,
   "metadata": {},
   "outputs": [],
   "source": [
    "from art.defences.postprocessor import GaussianNoise"
   ]
  },
  {
   "cell_type": "code",
   "execution_count": 78,
   "metadata": {},
   "outputs": [],
   "source": [
    "post = GaussianNoise()\n",
    "pmodel = KerasClassifier(model, postprocessing_defences=post)"
   ]
  },
  {
   "cell_type": "code",
   "execution_count": 79,
   "metadata": {},
   "outputs": [],
   "source": [
    "cccnnp = CopycatCNN(\n",
    "    classifier=pmodel,\n",
    "    batch_size_fit=64,\n",
    "    batch_size_query=64,\n",
    "    nb_epochs=10,\n",
    "    nb_stolen=1500,\n",
    "    use_probability=False\n",
    ")\n",
    "\n",
    "konp = KnockoffNets(\n",
    "    classifier=pmodel,\n",
    "    batch_size_fit=64,\n",
    "    batch_size_query=64,\n",
    "    nb_epochs=10,\n",
    "    nb_stolen=1500,\n",
    "    use_probability=False\n",
    ")"
   ]
  },
  {
   "cell_type": "code",
   "execution_count": 80,
   "metadata": {},
   "outputs": [
    {
     "name": "stdout",
     "output_type": "stream",
     "text": [
      "Train on 200 samples\n",
      "Epoch 1/10\n",
      "200/200 [==============================] - 1s 3ms/sample - loss: 3.2134 - accuracy: 0.2450\n",
      "Epoch 2/10\n",
      "200/200 [==============================] - 0s 1ms/sample - loss: 3.0941 - accuracy: 0.3800\n",
      "Epoch 3/10\n",
      "200/200 [==============================] - 0s 1ms/sample - loss: 2.6972 - accuracy: 0.3800\n",
      "Epoch 4/10\n",
      "200/200 [==============================] - 0s 1ms/sample - loss: 2.5711 - accuracy: 0.3800\n",
      "Epoch 5/10\n",
      "200/200 [==============================] - 0s 1ms/sample - loss: 2.4632 - accuracy: 0.3800\n",
      "Epoch 6/10\n",
      "200/200 [==============================] - 0s 1ms/sample - loss: 2.3446 - accuracy: 0.3800\n",
      "Epoch 7/10\n",
      "200/200 [==============================] - 0s 1ms/sample - loss: 2.3033 - accuracy: 0.3800\n",
      "Epoch 8/10\n",
      "200/200 [==============================] - 0s 1ms/sample - loss: 2.2929 - accuracy: 0.3800\n",
      "Epoch 9/10\n",
      "200/200 [==============================] - 0s 1ms/sample - loss: 2.3057 - accuracy: 0.3800\n",
      "Epoch 10/10\n",
      "200/200 [==============================] - 0s 1ms/sample - loss: 2.2570 - accuracy: 0.3800\n"
     ]
    },
    {
     "name": "stderr",
     "output_type": "stream",
     "text": [
      "/usr/local/lib/python3.8/dist-packages/keras/engine/training_v1.py:2045: UserWarning: `Model.state_updates` will be removed in a future version. This property should not be used in TensorFlow 2.0, as `updates` are applied automatically.\n",
      "  updates = self.state_updates\n"
     ]
    },
    {
     "name": "stdout",
     "output_type": "stream",
     "text": [
      "Train on 500 samples\n",
      "Epoch 1/10\n",
      "500/500 [==============================] - 1s 2ms/sample - loss: 2.9601 - accuracy: 0.2960\n",
      "Epoch 2/10\n",
      "500/500 [==============================] - 1s 1ms/sample - loss: 2.5684 - accuracy: 0.3300\n",
      "Epoch 3/10\n",
      "500/500 [==============================] - 1s 1ms/sample - loss: 2.5158 - accuracy: 0.3300\n",
      "Epoch 4/10\n",
      "500/500 [==============================] - 1s 1ms/sample - loss: 2.4819 - accuracy: 0.3300\n",
      "Epoch 5/10\n",
      "500/500 [==============================] - 1s 1ms/sample - loss: 2.4614 - accuracy: 0.3300\n",
      "Epoch 6/10\n",
      "500/500 [==============================] - 1s 1ms/sample - loss: 2.4401 - accuracy: 0.3300\n",
      "Epoch 7/10\n",
      "500/500 [==============================] - 1s 1ms/sample - loss: 2.4358 - accuracy: 0.3300\n",
      "Epoch 8/10\n",
      "500/500 [==============================] - 1s 1ms/sample - loss: 2.4257 - accuracy: 0.3300\n",
      "Epoch 9/10\n",
      "500/500 [==============================] - 1s 1ms/sample - loss: 2.4299 - accuracy: 0.3300\n",
      "Epoch 10/10\n",
      "500/500 [==============================] - 1s 1ms/sample - loss: 2.4168 - accuracy: 0.3300\n",
      "Train on 1000 samples\n",
      "Epoch 1/10\n",
      "1000/1000 [==============================] - 2s 2ms/sample - loss: 2.8595 - accuracy: 0.2930\n",
      "Epoch 2/10\n",
      "1000/1000 [==============================] - 2s 2ms/sample - loss: 2.5398 - accuracy: 0.3220\n",
      "Epoch 3/10\n",
      "1000/1000 [==============================] - 1s 1ms/sample - loss: 2.4780 - accuracy: 0.3220\n",
      "Epoch 4/10\n",
      "1000/1000 [==============================] - 1s 1ms/sample - loss: 2.4742 - accuracy: 0.3220\n",
      "Epoch 5/10\n",
      "1000/1000 [==============================] - 1s 1ms/sample - loss: 2.4544 - accuracy: 0.3220\n",
      "Epoch 6/10\n",
      "1000/1000 [==============================] - 1s 1ms/sample - loss: 2.4459 - accuracy: 0.3220\n",
      "Epoch 7/10\n",
      "1000/1000 [==============================] - 1s 1ms/sample - loss: 2.4428 - accuracy: 0.3220\n",
      "Epoch 8/10\n",
      "1000/1000 [==============================] - 1s 1ms/sample - loss: 2.4275 - accuracy: 0.3220\n",
      "Epoch 9/10\n",
      "1000/1000 [==============================] - 1s 1ms/sample - loss: 2.4284 - accuracy: 0.3220\n",
      "Epoch 10/10\n",
      "1000/1000 [==============================] - 1s 1ms/sample - loss: 2.4110 - accuracy: 0.3220\n",
      "Train on 1500 samples\n",
      "Epoch 1/10\n",
      "1500/1500 [==============================] - 2s 1ms/sample - loss: 2.7228 - accuracy: 0.3193\n",
      "Epoch 2/10\n",
      "1500/1500 [==============================] - 2s 1ms/sample - loss: 2.4419 - accuracy: 0.3453\n",
      "Epoch 3/10\n",
      "1500/1500 [==============================] - 2s 1ms/sample - loss: 2.4175 - accuracy: 0.3453\n",
      "Epoch 4/10\n",
      "1500/1500 [==============================] - 2s 1ms/sample - loss: 2.4116 - accuracy: 0.3453\n",
      "Epoch 5/10\n",
      "1500/1500 [==============================] - 2s 1ms/sample - loss: 2.4000 - accuracy: 0.3453\n",
      "Epoch 6/10\n",
      "1500/1500 [==============================] - 2s 1ms/sample - loss: 2.3843 - accuracy: 0.3453\n",
      "Epoch 7/10\n",
      "1500/1500 [==============================] - 2s 1ms/sample - loss: 2.3377 - accuracy: 0.3453\n",
      "Epoch 8/10\n",
      "1500/1500 [==============================] - 2s 1ms/sample - loss: 2.2788 - accuracy: 0.3453\n",
      "Epoch 9/10\n",
      "1500/1500 [==============================] - 2s 1ms/sample - loss: 2.1293 - accuracy: 0.4027\n",
      "Epoch 10/10\n",
      "1500/1500 [==============================] - 2s 1ms/sample - loss: 1.9020 - accuracy: 0.4313\n"
     ]
    },
    {
     "data": {
      "text/html": [
       "<div>\n",
       "<style scoped>\n",
       "    .dataframe tbody tr th:only-of-type {\n",
       "        vertical-align: middle;\n",
       "    }\n",
       "\n",
       "    .dataframe tbody tr th {\n",
       "        vertical-align: top;\n",
       "    }\n",
       "\n",
       "    .dataframe thead th {\n",
       "        text-align: right;\n",
       "    }\n",
       "</style>\n",
       "<table border=\"1\" class=\"dataframe\">\n",
       "  <thead>\n",
       "    <tr style=\"text-align: right;\">\n",
       "      <th></th>\n",
       "      <th>name</th>\n",
       "      <th>acc</th>\n",
       "      <th>size</th>\n",
       "    </tr>\n",
       "  </thead>\n",
       "  <tbody>\n",
       "    <tr>\n",
       "      <th>0</th>\n",
       "      <td>CopycatCNN Protected</td>\n",
       "      <td>0.300538</td>\n",
       "      <td>200</td>\n",
       "    </tr>\n",
       "    <tr>\n",
       "      <th>1</th>\n",
       "      <td>CopycatCNN Protected</td>\n",
       "      <td>0.303649</td>\n",
       "      <td>500</td>\n",
       "    </tr>\n",
       "    <tr>\n",
       "      <th>2</th>\n",
       "      <td>CopycatCNN Protected</td>\n",
       "      <td>0.309101</td>\n",
       "      <td>1000</td>\n",
       "    </tr>\n",
       "    <tr>\n",
       "      <th>3</th>\n",
       "      <td>CopycatCNN Protected</td>\n",
       "      <td>0.392473</td>\n",
       "      <td>1500</td>\n",
       "    </tr>\n",
       "    <tr>\n",
       "      <th>4</th>\n",
       "      <td>KnockoffNets Protected</td>\n",
       "      <td>0.300154</td>\n",
       "      <td>200</td>\n",
       "    </tr>\n",
       "  </tbody>\n",
       "</table>\n",
       "</div>"
      ],
      "text/plain": [
       "                     name       acc  size\n",
       "0    CopycatCNN Protected  0.300538   200\n",
       "1    CopycatCNN Protected  0.303649   500\n",
       "2    CopycatCNN Protected  0.309101  1000\n",
       "3    CopycatCNN Protected  0.392473  1500\n",
       "4  KnockoffNets Protected  0.300154   200"
      ]
     },
     "execution_count": 80,
     "metadata": {},
     "output_type": "execute_result"
    }
   ],
   "source": [
    "sizes = [200, 500, 1000, 1500]\n",
    "cccnn_resp = [atack('CopycatCNN Protected', cccnn, l) for l in sizes]\n",
    "kon_resp = [atack('KnockoffNets Protected', kon, l) for l in sizes]\n",
    "\n",
    "df = pd.DataFrame(cccnn_resp + kon_resp)\n",
    "df.head()"
   ]
  },
  {
   "cell_type": "code",
   "execution_count": 81,
   "metadata": {},
   "outputs": [
    {
     "data": {
      "image/png": "[encoded data removed]",
      "text/plain": [
       "<Figure size 640x480 with 1 Axes>"
      ]
     },
     "metadata": {},
     "output_type": "display_data"
    }
   ],
   "source": [
    "plt.clf()\n",
    "sns.lineplot(data=df, x=\"size\", y=\"acc\", hue='name')\n",
    "plt.show()"
   ]
  },
  {
   "cell_type": "markdown",
   "metadata": {},
   "source": [
    "### Conclusiones"
   ]
  },
  {
   "cell_type": "markdown",
   "metadata": {},
   "source": [
    "## Ataque de evasión"
   ]
  },
  {
   "cell_type": "code",
   "execution_count": 82,
   "metadata": {},
   "outputs": [],
   "source": [
    "from art.attacks.evasion import FastGradientMethod"
   ]
  },
  {
   "cell_type": "code",
   "execution_count": 83,
   "metadata": {},
   "outputs": [],
   "source": [
    "omc = KerasClassifier(model)\n",
    "fgm = FastGradientMethod(omc)"
   ]
  },
  {
   "cell_type": "code",
   "execution_count": 91,
   "metadata": {},
   "outputs": [],
   "source": [
    "X_fake = fgm.generate(x=X_test)"
   ]
  },
  {
   "cell_type": "code",
   "execution_count": 95,
   "metadata": {},
   "outputs": [],
   "source": [
    "fres = model.predict(X_fake)"
   ]
  },
  {
   "cell_type": "code",
   "execution_count": 104,
   "metadata": {},
   "outputs": [
    {
     "data": {
      "text/plain": [
       "0.03390435403283369"
      ]
     },
     "execution_count": 104,
     "metadata": {},
     "output_type": "execute_result"
    }
   ],
   "source": [
    "accuracy_score(y_test.argmax(axis=1), fres.argmax(axis=1))"
   ]
  },
  {
   "cell_type": "markdown",
   "metadata": {},
   "source": [
    "Como se evita?\n",
    "\n",
    "Aunque la presicion del modelo disminuye bastante, uno de las formas de protegerlo es invluyendo en la data de entrenamiento imagenes adicionales que tengan aplicado el mismo ruido."
   ]
  },
  {
   "cell_type": "markdown",
   "metadata": {},
   "source": [
    "Aplicamos FastGradientMethod a nestra data de entrenamiento"
   ]
  },
  {
   "cell_type": "code",
   "execution_count": 105,
   "metadata": {},
   "outputs": [],
   "source": [
    "X_train_new = fgm.generate(X_train)"
   ]
  },
  {
   "cell_type": "code",
   "execution_count": 106,
   "metadata": {},
   "outputs": [],
   "source": [
    "nmc = get_model()"
   ]
  },
  {
   "cell_type": "code",
   "execution_count": 107,
   "metadata": {},
   "outputs": [
    {
     "name": "stdout",
     "output_type": "stream",
     "text": [
      "Train on 6537 samples\n",
      "Epoch 1/10\n",
      "6537/6537 [==============================] - 9s 1ms/sample - loss: 2.5765 - accuracy: 0.3119\n",
      "Epoch 2/10\n",
      "6537/6537 [==============================] - 9s 1ms/sample - loss: 1.7899 - accuracy: 0.4640\n",
      "Epoch 3/10\n",
      "6537/6537 [==============================] - 16s 2ms/sample - loss: 0.7759 - accuracy: 0.7318\n",
      "Epoch 4/10\n",
      "6537/6537 [==============================] - 9s 1ms/sample - loss: 0.6041 - accuracy: 0.7788\n",
      "Epoch 5/10\n",
      "6537/6537 [==============================] - 10s 2ms/sample - loss: 0.4871 - accuracy: 0.8253\n",
      "Epoch 6/10\n",
      "6537/6537 [==============================] - 9s 1ms/sample - loss: 0.3921 - accuracy: 0.8596\n",
      "Epoch 7/10\n",
      "6537/6537 [==============================] - 9s 1ms/sample - loss: 0.3490 - accuracy: 0.8743\n",
      "Epoch 8/10\n",
      "6537/6537 [==============================] - 9s 1ms/sample - loss: 0.3088 - accuracy: 0.8894\n",
      "Epoch 9/10\n",
      "6537/6537 [==============================] - 10s 1ms/sample - loss: 0.2828 - accuracy: 0.9024\n",
      "Epoch 10/10\n",
      "6537/6537 [==============================] - 9s 1ms/sample - loss: 0.2402 - accuracy: 0.9148\n"
     ]
    }
   ],
   "source": [
    "h = history = nmc.fit(\n",
    "    x=X_train,\n",
    "    y=y_train,\n",
    "    epochs=10,\n",
    ")\n"
   ]
  },
  {
   "cell_type": "code",
   "execution_count": 119,
   "metadata": {},
   "outputs": [
    {
     "data": {
      "text/plain": [
       "0.03997144896502498"
      ]
     },
     "execution_count": 119,
     "metadata": {},
     "output_type": "execute_result"
    }
   ],
   "source": [
    "fgm = FastGradientMethod(KerasClassifier(model=nmc))\n",
    "X_fake = fgm.generate(x=X_test)\n",
    "fres = nmc.predict(X_fake)\n",
    "accuracy_score(y_test.argmax(axis=1), fres.argmax(axis=1))"
   ]
  },
  {
   "cell_type": "markdown",
   "metadata": {},
   "source": [
    "### Conclusiones"
   ]
  },
  {
   "cell_type": "code",
   "execution_count": null,
   "metadata": {},
   "outputs": [],
   "source": []
  }
 ],
 "metadata": {
  "kernelspec": {
   "display_name": "Python 3",
   "language": "python",
   "name": "python3"
  },
  "language_info": {
   "codemirror_mode": {
    "name": "ipython",
    "version": 3
   },
   "file_extension": ".py",
   "mimetype": "text/x-python",
   "name": "python",
   "nbconvert_exporter": "python",
   "pygments_lexer": "ipython3",
   "version": "3.8.5"
  }
 },
 "nbformat": 4,
 "nbformat_minor": 2
}
